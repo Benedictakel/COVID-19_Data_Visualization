{
  "nbformat": 4,
  "nbformat_minor": 0,
  "metadata": {
    "colab": {
      "provenance": [],
      "authorship_tag": "ABX9TyO1JbFqZWnCtun/JN7Q1dEH"
    },
    "kernelspec": {
      "name": "python3",
      "display_name": "Python 3"
    },
    "language_info": {
      "name": "python"
    }
  },
  "cells": [
    {
      "cell_type": "code",
      "execution_count": null,
      "metadata": {
        "id": "dyo1W_hDh4EB"
      },
      "outputs": [],
      "source": [
        "import pandas as pd\n",
        "import numpy as np\n",
        "import matplotlib.pyplot as plt\n",
        "import seaborn as sns\n",
        "\n",
        "import plotly.express as px\n"
      ]
    },
    {
      "cell_type": "code",
      "source": [
        "url = \"https://covid.ourworldindata.org/data/owid-covid-data.csv\"\n",
        "df = pd.read_csv(url)\n",
        "\n",
        "df.head()\n"
      ],
      "metadata": {
        "id": "jZVr1MuLh6NH"
      },
      "execution_count": null,
      "outputs": []
    },
    {
      "cell_type": "code",
      "source": [
        "# Focus on key columns and countries\n",
        "df = df[['location', 'date', 'total_cases', 'new_cases', 'total_deaths', 'new_deaths', 'population']]\n",
        "\n",
        "# Convert date to datetime\n",
        "df['date'] = pd.to_datetime(df['date'])\n",
        "\n",
        "# Filter to 5 example countries\n",
        "countries = ['United States', 'India', 'Brazil', 'Nigeria', 'United Kingdom']\n",
        "df = df[df['location'].isin(countries)]\n"
      ],
      "metadata": {
        "id": "TcMIA0dIh_u6"
      },
      "execution_count": null,
      "outputs": []
    },
    {
      "cell_type": "code",
      "source": [
        "plt.figure(figsize=(12, 6))\n",
        "for country in countries:\n",
        "    country_data = df[df['location'] == country]\n",
        "    plt.plot(country_data['date'], country_data['total_cases'], label=country)\n",
        "\n",
        "plt.title(\"Total COVID-19 Cases Over Time\")\n",
        "plt.xlabel(\"Date\")\n",
        "plt.ylabel(\"Total Cases\")\n",
        "plt.legend()\n",
        "plt.grid(True)\n",
        "plt.show()\n"
      ],
      "metadata": {
        "id": "3Un7rJfOiEo6"
      },
      "execution_count": null,
      "outputs": []
    },
    {
      "cell_type": "code",
      "source": [
        "india_data = df[df['location'] == 'India']\n",
        "\n",
        "plt.figure(figsize=(12, 5))\n",
        "sns.lineplot(data=india_data, x='date', y='new_cases')\n",
        "plt.title(\"Daily New Cases in India\")\n",
        "plt.xlabel(\"Date\")\n",
        "plt.ylabel(\"New Cases\")\n",
        "plt.show()\n"
      ],
      "metadata": {
        "id": "XMdSxnWdiIe8"
      },
      "execution_count": null,
      "outputs": []
    },
    {
      "cell_type": "code",
      "source": [
        "latest_df = df[df['date'] == df['date'].max()]\n",
        "\n",
        "# Drop duplicates to get latest per country\n",
        "latest_df = latest_df.drop_duplicates(subset=['location'], keep='last')\n",
        "\n",
        "fig = px.choropleth(\n",
        "    latest_df,\n",
        "    locations='location',\n",
        "    locationmode='country names',\n",
        "    color='total_cases',\n",
        "    hover_name='location',\n",
        "    title='Global COVID-19 Total Cases (Latest)',\n",
        "    color_continuous_scale='Reds'\n",
        ")\n",
        "fig.show()\n"
      ],
      "metadata": {
        "id": "CQ3M_dhviL0Y"
      },
      "execution_count": null,
      "outputs": []
    },
    {
      "cell_type": "code",
      "source": [
        "latest_df['deaths_per_100k'] = (latest_df['total_deaths'] / latest_df['population']) * 100000\n",
        "top_deaths = latest_df.sort_values('deaths_per_100k', ascending=False).head(10)\n",
        "\n",
        "plt.figure(figsize=(10, 6))\n",
        "sns.barplot(data=top_deaths, y='location', x='deaths_per_100k', palette=\"flare\")\n",
        "plt.title(\"Top 10 Countries by COVID-19 Deaths per 100k Population\")\n",
        "plt.xlabel(\"Deaths per 100k\")\n",
        "plt.ylabel(\"Country\")\n",
        "plt.show()\n"
      ],
      "metadata": {
        "id": "xZhG5Y8PiSOj"
      },
      "execution_count": null,
      "outputs": []
    }
  ]
}